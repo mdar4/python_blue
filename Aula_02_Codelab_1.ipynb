{
  "nbformat": 4,
  "nbformat_minor": 0,
  "metadata": {
    "colab": {
      "name": "Aula_02_Codelab_1.ipynb",
      "provenance": [],
      "collapsed_sections": [],
      "include_colab_link": true
    },
    "kernelspec": {
      "name": "python3",
      "display_name": "Python 3"
    },
    "language_info": {
      "name": "python"
    }
  },
  "cells": [
    {
      "cell_type": "markdown",
      "metadata": {
        "id": "view-in-github",
        "colab_type": "text"
      },
      "source": [
        "<a href=\"https://colab.research.google.com/github/mdar4/python_blue/blob/main/Aula_02_Codelab_1.ipynb\" target=\"_parent\"><img src=\"https://colab.research.google.com/assets/colab-badge.svg\" alt=\"Open In Colab\"/></a>"
      ]
    },
    {
      "cell_type": "markdown",
      "metadata": {
        "id": "n_igYcmdk6U9"
      },
      "source": [
        "# **Exercícios para treinar:**"
      ]
    },
    {
      "cell_type": "markdown",
      "metadata": {
        "id": "HqgnPaCGqMPB"
      },
      "source": [
        "# Exercícios"
      ]
    },
    {
      "cell_type": "markdown",
      "metadata": {
        "id": "w23m6Vj671nj"
      },
      "source": [
        "Frase na tela - Implemente um programa que escreve na tela a frase \"O primeiro programa a gente nunca esquece!\".\n"
      ]
    },
    {
      "cell_type": "code",
      "metadata": {
        "colab": {
          "base_uri": "https://localhost:8080/"
        },
        "id": "I0kHQuvA7_Ti",
        "outputId": "220a1215-055e-4fc3-81a9-bbc6c90d9dee"
      },
      "source": [
        "print('O primeiro programa a gente nunca esquece!')"
      ],
      "execution_count": null,
      "outputs": [
        {
          "output_type": "stream",
          "text": [
            "O primeiro programa a gente nunca esquece!\n"
          ],
          "name": "stdout"
        }
      ]
    },
    {
      "cell_type": "markdown",
      "metadata": {
        "id": "oUygfs-08WK0"
      },
      "source": [
        "Etiqueta - Elabore um programa que escreve seu nome completo na primeira linha, seu endereço na segunda e o CEP e telefone na terceira."
      ]
    },
    {
      "cell_type": "code",
      "metadata": {
        "colab": {
          "base_uri": "https://localhost:8080/"
        },
        "id": "Ww3q1SsB8XPQ",
        "outputId": "e17b1856-f0fa-44c7-b1a8-d6dbfe11b889"
      },
      "source": [
        "nome = input(\"Nome completo: \")\n",
        "endereço = input(\"Endereço: \")\n",
        "cep = input(\"CEP: \")\n",
        "telefone = input(\"Telefone: \")\n",
        "\n",
        "print('')\n",
        "print(f'{nome}\\n{endereço}\\n{cep} {telefone}')"
      ],
      "execution_count": null,
      "outputs": [
        {
          "output_type": "stream",
          "text": [
            "Nome completo: Dara Fontoura da Silva\n",
            "Endereço: Rua 28\n",
            "CEP: 11750-000\n",
            "Telefone: 13997293227\n",
            "\n",
            "Dara Fontoura da Silva\n",
            "Rua 28\n",
            "11750-000 13997293227\n"
          ],
          "name": "stdout"
        }
      ]
    },
    {
      "cell_type": "markdown",
      "metadata": {
        "id": "0z8meBYo9lW-"
      },
      "source": [
        "Faça um programa que mostre na tela uma letra de música que você gosta (proibido letras do Justin Bieber).\n"
      ]
    },
    {
      "cell_type": "code",
      "metadata": {
        "colab": {
          "base_uri": "https://localhost:8080/"
        },
        "id": "8ieT6iXM9nbX",
        "outputId": "551a7e80-5298-4a34-8aa1-0e11587d275a"
      },
      "source": [
        "print(\"Quem me dera ao menos uma vez\\\n",
        "\\nTer de volta todo o ouro que entreguei a quem\\\n",
        "\\nConseguiu me convencer que era prova de amizade\\\n",
        "\\nSe alguém levasse embora até o que eu não tinha\")"
      ],
      "execution_count": null,
      "outputs": [
        {
          "output_type": "stream",
          "text": [
            "Quem me dera ao menos uma vez\n",
            "Ter de volta todo o ouro que entreguei a quem\n",
            "Conseguiu me convencer que era prova de amizade\n",
            "Se alguém levasse embora até o que eu não tinha\n"
          ],
          "name": "stdout"
        }
      ]
    },
    {
      "cell_type": "markdown",
      "metadata": {
        "id": "zZn9twjvDXdT"
      },
      "source": [
        "Tabela de notas - Você foi contratado ou contratada por uma escola pra fazer o sistema de boletim dos alunos. Como primeiro passo, escreva um programa que produza a seguinte saída:"
      ]
    },
    {
      "cell_type": "code",
      "metadata": {
        "colab": {
          "base_uri": "https://localhost:8080/"
        },
        "id": "13sFe0iODYhP",
        "outputId": "1cd2f8d2-d512-4294-c1d5-955d122327c9"
      },
      "source": [
        "\n",
        "#print(\"ALUNO (A)  NOTA\")\n",
        "#print(\"=========  ====\")\n",
        "#print(\"ALINE      9.0\")\n",
        "#print(\"MÁRIO      DEZ\")\n",
        "#print(\"SÉRGIO     4.5\")\n",
        "#print(\"SHIRLEY    7.0\")\n",
        "\n",
        "print('''\n",
        "ALUNO (A)  NOTA\n",
        "=========  ====\n",
        "ALINE      9.0\n",
        "MÁRIO      DEZ\n",
        "SÉRGIO     4.5\n",
        "SHIRLEY    7.0\n",
        "''')"
      ],
      "execution_count": null,
      "outputs": [
        {
          "output_type": "stream",
          "text": [
            "\n",
            "ALUNO (A)  NOTA\n",
            "=========  ====\n",
            "ALINE      9.0\n",
            "MÁRIO      DEZ\n",
            "SÉRGIO     4.5\n",
            "SHIRLEY    7.0\n",
            "\n"
          ],
          "name": "stdout"
        }
      ]
    },
    {
      "cell_type": "markdown",
      "metadata": {
        "id": "FiIaF6VhI-YP"
      },
      "source": [
        "Menu - Elabore um programa que mostre o seguinte menu na tela:\n",
        "\n",
        "Cadastro de Clientes\n",
        "0 - Fim\n",
        "1 - Inclui\n",
        "2 - Altera\n",
        "3 - Exclui\n",
        "4 - Consulta\n",
        "Digite uma opção: \n",
        "Ao digitar um valor para a opção, o programa exibe qual opção foi escolhida.\n",
        "\n",
        "Você escolheu a opção '0'."
      ]
    },
    {
      "cell_type": "code",
      "metadata": {
        "colab": {
          "base_uri": "https://localhost:8080/"
        },
        "id": "aS6GkHhvI6Ot",
        "outputId": "04d7e01e-eac4-49ee-ffc8-e6b041abf239"
      },
      "source": [
        "#print(\"Cadastro de Clientes\")\n",
        "#print(\"0 - Fim\")\n",
        "#print(\"1 - Inclui\")\n",
        "#print(\"2 - Altera\")\n",
        "#print(\"3 - Exclui\")\n",
        "#print(\"4 - Consulta\")\n",
        "#input(\"Digite uma opção: \")\n",
        "#print(\"Você escolheu a opção '0'.\")\n",
        "\n",
        "print(f'''\n",
        "Cadastro de Clientes\n",
        "0 - Fim\n",
        "1 - Inclui\n",
        "2 - Altera\n",
        "3 - Exclui\n",
        "4 - Consulta\n",
        "''')\n",
        "opcao = input('Digite uma opção: ')\n",
        "print(\"Você escolheu a opção '0'\")\n"
      ],
      "execution_count": 3,
      "outputs": [
        {
          "output_type": "stream",
          "text": [
            "\n",
            "Cadastro de Clientes\n",
            "0 - Fim\n",
            "1 - Inclui\n",
            "2 - Altera\n",
            "3 - Exclui\n",
            "4 - Consulta\n",
            "\n",
            "Digite uma opção: 0\n",
            "Você escolheu a opção '0'\n"
          ],
          "name": "stdout"
        }
      ]
    },
    {
      "cell_type": "markdown",
      "metadata": {
        "id": "rRyZR6ZAlEHU"
      },
      "source": [
        "1. **Frase na tela** - Implemente um programa que escreve na tela a frase \"O primeiro programa a gente nunca esquece!\".\n",
        "\n",
        "2. **Etiqueta** - Elabore um programa que escreve seu nome completo na primeira linha, seu endereço na segunda e o CEP e telefone na terceira.\n",
        "\n",
        "3. **Letra de música** - Faça um programa que mostre na tela uma letra de música que você gosta (proibido letras do Justin Bieber).\n",
        "\n",
        "4. **Tabela de notas** - Você foi contratado ou contratada por uma escola pra fazer o sistema de boletim dos alunos. Como primeiro passo, escreva um programa que produza a seguinte saída:\n",
        "```\n",
        "ALUNO (A)  NOTA\n",
        "=========  ====\n",
        "ALINE      9.0\n",
        "MÁRIO      DEZ\n",
        "SÉRGIO     4.5\n",
        "SHIRLEY    7.0\n",
        "```\n",
        "\n",
        "5. **Menu** - Elabore um programa que mostre o seguinte menu na tela:\n",
        "```\n",
        "Cadastro de Clientes\n",
        "0 - Fim\n",
        "1 - Inclui\n",
        "2 - Altera\n",
        "3 - Exclui\n",
        "4 - Consulta\n",
        "Digite uma opção: \n",
        "```\n",
        "Ao digitar um valor para a opção, o programa exibe qual opção foi escolhida.\n",
        "```\n",
        "Você escolheu a opção '0'.\n",
        "```\n",
        "\n",
        "6. **Calculadora de Dano** - Escreva um programa que receba dois valores digitados pelo usuário:\n",
        "  - Quantidade de vida de um monstro (entre 10 e 50);\n",
        "  - Valor do ataque do jogador por turno (entre 5 e 10);\n",
        "  - Baseado nos valores digitados, exiba a quantidade de turnos que o jogador irá demorar para conseguir derrotar o monstro.\n",
        "  - ```\n",
        "    O jogador irá derrotar o monstro em 8 turnos.\n",
        "    ```"
      ]
    },
    {
      "cell_type": "code",
      "metadata": {
        "colab": {
          "base_uri": "https://localhost:8080/"
        },
        "id": "_Ow0lWTyNKBB",
        "outputId": "2170b3c7-5d85-4982-d7b0-bdb84e8420f8"
      },
      "source": [
        "#vidaMosntro = 10 >= 50\n",
        "#ataque = 5 >= 10\n",
        "#turnos = vidaMosntro - ataque\n",
        "\n",
        "vidaMonstro = int(input('Insira um número entre 10 e 50:  '))\n",
        "valorAtaque = int(input(' Insira um numero entre 5 e 10: '))\n",
        "turnos = vidaMonstro / valorAtaque\n",
        "\n",
        "print(f'O jogador irá derrotar o monstro em {turnos} turnos')\n",
        "\n",
        "\n",
        "\n"
      ],
      "execution_count": null,
      "outputs": [
        {
          "output_type": "stream",
          "text": [
            "Insira um número de 10 a 50:  40\n",
            " Insira um numero de 5 a 10: 5\n",
            "O jogador irá derrotar o monstro em 8.0 turnos\n"
          ],
          "name": "stdout"
        }
      ]
    },
    {
      "cell_type": "markdown",
      "metadata": {
        "id": "U-ltrv0jqPBq"
      },
      "source": [
        "## #01 - E os 10% do garçom?**\n",
        "\n",
        "- Defina uma variável para o valor de uma refeição que custou R$ 42,54;\n",
        "\n",
        "- Defina uma variável para o valor da taxa de serviço que é de 10%;\n",
        "\n",
        "- Defina uma variável que calcula o valor total da conta e exiba-o no console com essa formatação: R$ XXXX.XX."
      ]
    },
    {
      "cell_type": "code",
      "metadata": {
        "id": "jbcSv4NFkB1C",
        "colab": {
          "base_uri": "https://localhost:8080/"
        },
        "outputId": "246571ac-e480-4ad3-e86b-da4b5dbb61fa"
      },
      "source": [
        "refeicao = 42.52\n",
        "taxa = 0.1\n",
        "total = refeicao * taxa\n",
        "print(f'R$ {total:.2f}')"
      ],
      "execution_count": null,
      "outputs": [
        {
          "output_type": "stream",
          "text": [
            "R$ 4.25\n"
          ],
          "name": "stdout"
        }
      ]
    },
    {
      "cell_type": "markdown",
      "metadata": {
        "id": "JR3-KgsTqR41"
      },
      "source": [
        "## #02 - Qual o valor do troco?\n",
        "\n",
        "*   Defina uma variável para o valor de uma compra que custou R$100,98;\n",
        "\n",
        "*   Defina uma variável para o valor que o cliente pagou R$150,00;\n",
        "\n",
        "*   Defina uma variável que calcula o valor do troco e exiba-o no console com o valor final arredondado."
      ]
    },
    {
      "cell_type": "code",
      "metadata": {
        "id": "hBf3kE_pksAI",
        "colab": {
          "base_uri": "https://localhost:8080/"
        },
        "outputId": "f86c6314-507d-413c-f461-b93ef2b64d75"
      },
      "source": [
        "valorCompra = 100.98\n",
        "valorPago = 150.00\n",
        "valorTroco = valorPago - valorCompra\n",
        "\n",
        "print(f'{valorTroco:.2f}')"
      ],
      "execution_count": null,
      "outputs": [
        {
          "output_type": "stream",
          "text": [
            "49.02\n"
          ],
          "name": "stdout"
        }
      ]
    },
    {
      "cell_type": "markdown",
      "metadata": {
        "id": "2Uu84Uqtkunt"
      },
      "source": [
        "## #03 - Você está na flor da idade?\n",
        "\n",
        "*  Defina uma variável para o valor do ano do nascimento;\n",
        "*  Defina uma variável para o valor do ano atual;\n",
        "*  Defina uma variável que calcula o valor final da idade da pessoa;\n",
        "*  Exiba uma mensagem final dizendo a idade da pessoa e a mensagem \"Você está na flor da idade\"."
      ]
    },
    {
      "cell_type": "code",
      "metadata": {
        "id": "kyXxJV3nk14Z",
        "colab": {
          "base_uri": "https://localhost:8080/"
        },
        "outputId": "c864169a-d317-492c-aeb8-0e06b5f51329"
      },
      "source": [
        "anoNasc = 2000\n",
        "anoAtual = 2021\n",
        "idade = anoAtual - anoNasc\n",
        "\n",
        "print(f'{idade} anos. Você está na flor da idade')"
      ],
      "execution_count": null,
      "outputs": [
        {
          "output_type": "stream",
          "text": [
            "21 anos. Você está na flor da idade\n"
          ],
          "name": "stdout"
        }
      ]
    },
    {
      "cell_type": "markdown",
      "metadata": {
        "id": "w1T7s2q0p-pt"
      },
      "source": [
        "# Mini projetos"
      ]
    },
    {
      "cell_type": "markdown",
      "metadata": {
        "id": "meUw7PTwqC-Y"
      },
      "source": [
        "## #01 - Conversor de moedas\n",
        "\n",
        "Crie um programa que solicite um um valor em real ao usuário e converta esse valor, para:\n",
        "\n",
        "- DOLAR,\n",
        "- EURO,\n",
        "- LIBRA ESTERLINA,\n",
        "- DÓLAR CANADENSE,\n",
        "- PESO ARGENTINO,\n",
        "- PESO CHILENO.\n",
        "\n",
        "Para esse exercício você precisará realizar uma pesquisa para saber a cotação de cada moeda em real. Mostrar o resultado no formato $ XXXX.XX"
      ]
    },
    {
      "cell_type": "code",
      "metadata": {
        "id": "q481snSClrXe",
        "colab": {
          "base_uri": "https://localhost:8080/"
        },
        "outputId": "a8c101ad-85f4-4960-afdf-b1f3e335c906"
      },
      "source": [
        "valor = input('Valor em Real: R$ ')\n",
        "dolar = float(valor) / 5.04\n",
        "euro = float(valor) / 6.13\n",
        "libra = float(valor) / 7.13\n",
        "dolarCana = float(valor) / 4.16\n",
        "pArgent = float(valor) / 0.053\n",
        "pChile = float(valor) / 0.0070\n",
        "\n",
        "print(f' Dolar: {dolar:.2f}\\n Euro: {euro:.2f}\\n Libra Esterlina: {libra:.2f}\\n Dólar Canadense: {dolarCana:.2f}\\n Peso Argentino: {pArgent:.2f}\\n Peso Chileno: {pChile:.2f}')"
      ],
      "execution_count": null,
      "outputs": [
        {
          "output_type": "stream",
          "text": [
            "Valor em Real: R$ 1000.00\n",
            " Dolar: 198.41\n",
            " Euro: 163.13\n",
            " Libra Esterlina: 140.25\n",
            " Dólar Canadense: 240.38\n",
            " Peso Argentino: 18867.92\n",
            " Peso Chileno: 142857.14\n"
          ],
          "name": "stdout"
        }
      ]
    },
    {
      "cell_type": "markdown",
      "metadata": {
        "id": "KK9PIcJ4qIF9"
      },
      "source": [
        "## #02 - Calculadora de aumento de aluguel\n",
        "\n",
        "Vamos construir um programa que irá calcular o aumento anual do seu aluguel em duas partes:\n",
        "\n",
        "### Parte 1\n",
        "A sua calculadora vai receber o `valor do aluguel` e calcular o aumento baseado no `IGPM de 31%`. A calculadora deve apresentar o aluguel reajustado no formato `R$ XXXX.XX`\n",
        "\n",
        "**Exemplo:**\n",
        "```\n",
        "Valor do aluguel = 1000\n",
        "Valor do aluguel reajustado = R$ 1310,00"
      ]
    },
    {
      "cell_type": "code",
      "metadata": {
        "id": "VdjHa9Csl0Lg",
        "colab": {
          "base_uri": "https://localhost:8080/"
        },
        "outputId": "23b2303e-5063-4209-a01e-aaaebf7f169a"
      },
      "source": [
        "aluguel = float(input('Insira um valor: '))\n",
        "igpm = 0.31\n",
        "\n",
        "reajuste = (aluguel * igpm) + aluguel\n",
        "\n",
        "print(f'Aluguel reajustado: R$ {reajuste:.2f}')"
      ],
      "execution_count": 5,
      "outputs": [
        {
          "output_type": "stream",
          "text": [
            "Insira um valor: 350\n",
            "Aluguel reajustado: R$ 458.50\n"
          ],
          "name": "stdout"
        }
      ]
    },
    {
      "cell_type": "markdown",
      "metadata": {
        "id": "lKTwnuNMl8rP"
      },
      "source": [
        "### Parte 2\n",
        "Agora, altere sua calculadora para receber além do `valor do aluguel`, o percentual do reajuste no formato `XX%`.  \n",
        "\n",
        "**Dica:** Descubra uma forma de transformar o percentual recebido em um número para efetuar o cálculo.\n",
        "\n",
        "**Exemplo:**\n",
        "```\n",
        "Valor do aluguel = 1000\n",
        "Percentual do reajuste = 31%\n",
        "Valor do aluguel reajustado = R% 1310,00\n",
        "```"
      ]
    },
    {
      "cell_type": "code",
      "metadata": {
        "id": "aw2Zk_9KmA85",
        "colab": {
          "base_uri": "https://localhost:8080/"
        },
        "outputId": "ea46608c-1662-4b7d-b1cd-a3f6aa22113f"
      },
      "source": [
        "aluguel = float(input('Insira um valor: '))\n",
        "igpm = float(input('Insira um valor: '))/100\n",
        "\n",
        "reajuste = (aluguel * igpm) + aluguel\n",
        "print('')\n",
        "print(f'Valor do alugue = {aluguel}')\n",
        "print(f'Percentual do reajuste = {igpm * 100} %')\n",
        "print(f'Valor do aluguel reajustado: R% {reajuste:.2f}')\n"
      ],
      "execution_count": 11,
      "outputs": [
        {
          "output_type": "stream",
          "text": [
            "Insira um valor: 1000\n",
            "Insira um valor: 31\n",
            "\n",
            "Valor do alugue = 1000.0\n",
            "Percentual do reajuste = 31.0 %\n",
            "Valor do aluguel reajustado: R% 1310.00\n"
          ],
          "name": "stdout"
        }
      ]
    }
  ]
}