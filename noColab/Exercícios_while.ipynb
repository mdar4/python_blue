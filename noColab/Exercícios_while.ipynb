{
  "nbformat": 4,
  "nbformat_minor": 0,
  "metadata": {
    "colab": {
      "name": "Exercícios_while.ipynb",
      "provenance": [],
      "authorship_tag": "ABX9TyO+tT/tEWQu9TMOir89Tdzl",
      "include_colab_link": true
    },
    "kernelspec": {
      "name": "python3",
      "display_name": "Python 3"
    },
    "language_info": {
      "name": "python"
    }
  },
  "cells": [
    {
      "cell_type": "markdown",
      "metadata": {
        "id": "view-in-github",
        "colab_type": "text"
      },
      "source": [
        "<a href=\"https://colab.research.google.com/github/mdar4/python_blue/blob/main/Exerc%C3%ADcios_while.ipynb\" target=\"_parent\"><img src=\"https://colab.research.google.com/assets/colab-badge.svg\" alt=\"Open In Colab\"/></a>"
      ]
    },
    {
      "cell_type": "markdown",
      "metadata": {
        "id": "s4mHbSOnIc78"
      },
      "source": [
        "Escreva um programa que pede a senha do usuário, e só sai do \n",
        "looping quando digitarem a senha correta\n"
      ]
    },
    {
      "cell_type": "code",
      "metadata": {
        "colab": {
          "base_uri": "https://localhost:8080/"
        },
        "id": "TpfXE3Ro-Bna",
        "outputId": "d27d2367-4e47-4bd1-e8ea-adaaa87b979f"
      },
      "source": [
        "senha = '123456'\n",
        "resp = input('Digite sua senha: ')\n",
        "\n",
        "while senha != resp:\n",
        "  print('Senha incorreta.')\n",
        "  resp = input('Digite sua senha: ')\n",
        "  if resp == '123456':\n",
        "    print('Seja bem vindo.')\n",
        "  \n"
      ],
      "execution_count": null,
      "outputs": [
        {
          "output_type": "stream",
          "text": [
            "Digite sua senha: 65675\n",
            "Senha incorreta.\n",
            "Digite sua senha: 123456\n",
            "Seja bem vindo.\n"
          ],
          "name": "stdout"
        }
      ]
    },
    {
      "cell_type": "markdown",
      "metadata": {
        "id": "fTcvbUOAJDpX"
      },
      "source": [
        "01 - Faça um programa que leia o sexo biológico de uma pessoa, mas só aceite os valores ‘M’ ou ‘F’. Caso esteja errado, peça a digitação novamente até ter um valor correto."
      ]
    },
    {
      "cell_type": "code",
      "metadata": {
        "colab": {
          "base_uri": "https://localhost:8080/"
        },
        "id": "-d5xiJ09JDMD",
        "outputId": "8c506b0f-12c5-490f-fe4c-0565a1130cfb"
      },
      "source": [
        "sexo = str(input('Insira seu sexo biológico [F/M]: ')).strip().upper()[0]\n",
        "\n",
        "while sexo not in 'FM':\n",
        "  print('Comando inválido')\n",
        "  sexo = str(input('Insira seu sexo biológico [F/M]: ').strip().upper()[0])\n",
        "  \n",
        "print(sexo)\n"
      ],
      "execution_count": null,
      "outputs": [
        {
          "output_type": "stream",
          "text": [
            "Insira seu sexo biológico [F/M]: m\n",
            "M\n"
          ],
          "name": "stdout"
        }
      ]
    }
  ]
}