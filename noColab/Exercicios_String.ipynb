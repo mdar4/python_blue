{
  "nbformat": 4,
  "nbformat_minor": 0,
  "metadata": {
    "colab": {
      "name": "Exercicios_String.ipynb",
      "provenance": [],
      "include_colab_link": true
    },
    "kernelspec": {
      "name": "python3",
      "display_name": "Python 3"
    },
    "language_info": {
      "name": "python"
    }
  },
  "cells": [
    {
      "cell_type": "markdown",
      "metadata": {
        "id": "view-in-github",
        "colab_type": "text"
      },
      "source": [
        "<a href=\"https://colab.research.google.com/github/mdar4/python_blue/blob/main/Exercicios_String.ipynb\" target=\"_parent\"><img src=\"https://colab.research.google.com/assets/colab-badge.svg\" alt=\"Open In Colab\"/></a>"
      ]
    },
    {
      "cell_type": "markdown",
      "metadata": {
        "id": "wbV2YraddQOF"
      },
      "source": [
        "01 - Considere a string A = \"Os limites só existem se você os deixar existir.(goku)\".\n",
        "\n",
        "Que fatia corresponde a (goku)?"
      ]
    },
    {
      "cell_type": "code",
      "metadata": {
        "colab": {
          "base_uri": "https://localhost:8080/"
        },
        "id": "QMENnPcGg630",
        "outputId": "b06ee8fb-3814-42ee-f712-f39d60195ce9"
      },
      "source": [
        "a = \"Os limites só existem se você os deixar existir.(goku)\"\n",
        "\n",
        "print(a[48:])"
      ],
      "execution_count": 9,
      "outputs": [
        {
          "output_type": "stream",
          "text": [
            "(goku)\n"
          ],
          "name": "stdout"
        }
      ]
    },
    {
      "cell_type": "markdown",
      "metadata": {
        "id": "2hA2Tw6sdR95"
      },
      "source": [
        "02 - Escreva um programa que solicite uma frase ao usuário e escreva a frase toda em maiúscula e sem espaços em branco."
      ]
    },
    {
      "cell_type": "code",
      "metadata": {
        "colab": {
          "base_uri": "https://localhost:8080/"
        },
        "id": "k7DKQ5MVjgrl",
        "outputId": "11a338ed-62e6-4a1c-bfab-b32d3c1feaab"
      },
      "source": [
        "frase = input('Escreva uma frase: ').strip()\n",
        "\n",
        "print(frase.upper().replace(' ',''))"
      ],
      "execution_count": 18,
      "outputs": [
        {
          "output_type": "stream",
          "text": [
            "Escreva uma frase: olá mundo\n",
            "OLÁMUNDO\n"
          ],
          "name": "stdout"
        }
      ]
    },
    {
      "cell_type": "markdown",
      "metadata": {
        "id": "EntkYdeSdT_j"
      },
      "source": [
        "03 - Elabore um programa que recebe o seu nome, endereço e hobby e mostra cada uma das informações da seguinte forma:\n",
        "- Nome -> Letra maiúscula\n",
        "- Endereço -> Letra minúscula\n",
        "- Hobby -> Primeira letra maiúscula\n",
        "\n",
        "**Exemplo Entrada:**\n",
        "```\n",
        "Nome: bruno fabri\n",
        "Endereço: Rua ABC\n",
        "Hobby: jogar cs\n",
        "```\n",
        "\n",
        "**Exemplo Saída:**\n",
        "```\n",
        "Nome: BRUNO FABRI\n",
        "Endereço: rua abc\n",
        "Hobby: Jogar cs\n",
        "```"
      ]
    },
    {
      "cell_type": "code",
      "metadata": {
        "colab": {
          "base_uri": "https://localhost:8080/"
        },
        "id": "pRXrTIR3mCOD",
        "outputId": "39e9f690-941a-41f5-e283-631693860347"
      },
      "source": [
        "nome = input('Nome: ')\n",
        "endereco = input('Endereço: ')\n",
        "hobby = input('Hobby: ')\n",
        "print(' ')\n",
        "print(f'Nome: {nome.upper()}')\n",
        "print(f'Endereço: {endereco.lower()}')\n",
        "print(f'Hobby: {hobby.capitalize()}')"
      ],
      "execution_count": 22,
      "outputs": [
        {
          "output_type": "stream",
          "text": [
            "Nome: dara silva\n",
            "Endereço: rua abc\n",
            "Hobby: jogar cs\n",
            " \n",
            "Nome: DARA SILVA\n",
            "Endereço: rua abc\n",
            "Hobby: Jogar cs\n"
          ],
          "name": "stdout"
        }
      ]
    }
  ]
}