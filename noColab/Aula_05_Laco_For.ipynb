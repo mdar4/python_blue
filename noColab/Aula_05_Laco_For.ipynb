{
  "nbformat": 4,
  "nbformat_minor": 0,
  "metadata": {
    "colab": {
      "name": "Aula_05_Laco_For.ipynb",
      "provenance": [],
      "collapsed_sections": [],
      "include_colab_link": true
    },
    "kernelspec": {
      "name": "python3",
      "display_name": "Python 3"
    },
    "language_info": {
      "name": "python"
    }
  },
  "cells": [
    {
      "cell_type": "markdown",
      "metadata": {
        "id": "view-in-github",
        "colab_type": "text"
      },
      "source": [
        "<a href=\"https://colab.research.google.com/github/mdar4/python_blue/blob/main/Aula_05_Laco_For.ipynb\" target=\"_parent\"><img src=\"https://colab.research.google.com/assets/colab-badge.svg\" alt=\"Open In Colab\"/></a>"
      ]
    },
    {
      "cell_type": "markdown",
      "metadata": {
        "id": "bvC7eMZckKmP"
      },
      "source": [
        "# Estrutura de repetição FOR"
      ]
    },
    {
      "cell_type": "markdown",
      "metadata": {
        "id": "QvYfJkBUjG4C"
      },
      "source": [
        "**Até agora a gente aprendeu a desviar das coisas, agora vamos aprender a repetir elas!**\n",
        "\n",
        "Imagina que nós queremos escrever na telá olá 5 vezes, nós teriamos que colcoar:"
      ]
    },
    {
      "cell_type": "code",
      "metadata": {
        "id": "vukYj3iWdYPP"
      },
      "source": [
        "print('Olá')\n",
        "print('Olá')\n",
        "print('Olá')\n",
        "print('Olá')\n",
        "print('Olá')"
      ],
      "execution_count": null,
      "outputs": []
    },
    {
      "cell_type": "markdown",
      "metadata": {
        "id": "fI4K1rr6jUor"
      },
      "source": [
        "Mas e se eu quiser escrever isso 500 vezes? Seria inviável, por isso temos o laço for, podemos substituir o código de cima por:"
      ]
    },
    {
      "cell_type": "code",
      "metadata": {
        "id": "ZcN9pFZNjXA3",
        "colab": {
          "base_uri": "https://localhost:8080/"
        },
        "outputId": "d4925296-7344-4c40-f1e2-b7a849a46b30"
      },
      "source": [
        "for c in range(1, 6): # De 1 a 6 porque o range ignora o ultimo número.\n",
        "   print('Olá')\n",
        "print('Fim')"
      ],
      "execution_count": 1,
      "outputs": [
        {
          "output_type": "stream",
          "text": [
            "Olá\n",
            "Olá\n",
            "Olá\n",
            "Olá\n",
            "Olá\n",
            "Fim\n"
          ],
          "name": "stdout"
        }
      ]
    },
    {
      "cell_type": "markdown",
      "metadata": {
        "id": "3O6AkdXKjXmT"
      },
      "source": [
        "O laço for é chamado de laço com variável de controle, caso acima, o c é a variável de controle.\n",
        "\n",
        "Outro exemplo, pra entendermos variáveis de controle:"
      ]
    },
    {
      "cell_type": "code",
      "metadata": {
        "id": "JXUWt0-8jaOx",
        "colab": {
          "base_uri": "https://localhost:8080/"
        },
        "outputId": "105f62b2-f921-4a9a-dae4-3787168ac0dd"
      },
      "source": [
        "for c in range(0, 5):\n",
        "   print(c) # Vai mostrar uma contagem crescente"
      ],
      "execution_count": 2,
      "outputs": [
        {
          "output_type": "stream",
          "text": [
            "0\n",
            "1\n",
            "2\n",
            "3\n",
            "4\n"
          ],
          "name": "stdout"
        }
      ]
    },
    {
      "cell_type": "markdown",
      "metadata": {
        "id": "_itgYbIVjcJL"
      },
      "source": [
        "Para contagens descrescentes utilize:"
      ]
    },
    {
      "cell_type": "code",
      "metadata": {
        "id": "SQ2RGDWRjhlE",
        "colab": {
          "base_uri": "https://localhost:8080/"
        },
        "outputId": "06f10403-286c-43bc-b06e-e26a84c044ec"
      },
      "source": [
        "for c in range(5, 0, -1): # começa no 5, tira 1 (-1), até o 1 (pois o útimo é ignorado)\n",
        "   print(c)"
      ],
      "execution_count": 3,
      "outputs": [
        {
          "output_type": "stream",
          "text": [
            "5\n",
            "4\n",
            "3\n",
            "2\n",
            "1\n"
          ],
          "name": "stdout"
        }
      ]
    },
    {
      "cell_type": "markdown",
      "metadata": {
        "id": "xxpKGg2Jji_B"
      },
      "source": [
        "Para pular de dois em dois:"
      ]
    },
    {
      "cell_type": "code",
      "metadata": {
        "id": "4eeSTayRjlUs",
        "colab": {
          "base_uri": "https://localhost:8080/"
        },
        "outputId": "bd4ecc3f-6052-4b69-8415-e32aa9ad1b83"
      },
      "source": [
        "for c in range(0, 7, 2): # começa no 0, pula de 2 em 2, até o 6 (pois o útimo é ignorado)\n",
        "   print(c)"
      ],
      "execution_count": 4,
      "outputs": [
        {
          "output_type": "stream",
          "text": [
            "0\n",
            "2\n",
            "4\n",
            "6\n"
          ],
          "name": "stdout"
        }
      ]
    },
    {
      "cell_type": "markdown",
      "metadata": {
        "id": "h0WwKHjQjnRX"
      },
      "source": [
        "Vamos a mais um exemplo:"
      ]
    },
    {
      "cell_type": "code",
      "metadata": {
        "id": "jnoyrZ31jmsH",
        "colab": {
          "base_uri": "https://localhost:8080/"
        },
        "outputId": "244e0b70-339f-42e4-d626-56d30c0b1b27"
      },
      "source": [
        "n = int(input('Digite um número: '))\n",
        "\n",
        "for c in range(0, n+1): # Li o n e utilizei dentro do range para contagem.\n",
        "   print(c)\n",
        "print('Fim')"
      ],
      "execution_count": 5,
      "outputs": [
        {
          "output_type": "stream",
          "text": [
            "Digite um número: 10\n",
            "0\n",
            "1\n",
            "2\n",
            "3\n",
            "4\n",
            "5\n",
            "6\n",
            "7\n",
            "8\n",
            "9\n",
            "10\n",
            "Fim\n"
          ],
          "name": "stdout"
        }
      ]
    },
    {
      "cell_type": "markdown",
      "metadata": {
        "id": "gbeyuLZPjtmZ"
      },
      "source": [
        "Agora vamos receber o incio do range, o fim e o passo:"
      ]
    },
    {
      "cell_type": "code",
      "metadata": {
        "id": "01g6XP9vjxyv",
        "colab": {
          "base_uri": "https://localhost:8080/"
        },
        "outputId": "719da106-9f65-466a-ddb4-5c627cb1b46f"
      },
      "source": [
        "i = int(input('Digite o inicio: '))\n",
        "f = int(input('Digite o fim: '))\n",
        "p = int(input('Digite o passo: '))\n",
        "\n",
        "\n",
        "for c in range(i, f+1, p): \n",
        "   print(c)\n",
        "print('Fim')"
      ],
      "execution_count": 7,
      "outputs": [
        {
          "output_type": "stream",
          "text": [
            "Digite o inicio: 10\n",
            "Digite o fim: 2\n",
            "Digite o passo: 4\n",
            "Fim\n"
          ],
          "name": "stdout"
        }
      ]
    },
    {
      "cell_type": "markdown",
      "metadata": {
        "id": "XU5Gyzxbj0BN"
      },
      "source": [
        "Vamos pedir varios valores no for, através do input e somar todos eles:"
      ]
    },
    {
      "cell_type": "code",
      "metadata": {
        "id": "JM7xPjg1j0vb",
        "colab": {
          "base_uri": "https://localhost:8080/"
        },
        "outputId": "fc45a063-daaa-4c4a-c20a-f136a516964f"
      },
      "source": [
        "s = 0\n",
        "for c in range(0, 4):\n",
        "   n = int(input('Digite um número: '))\n",
        "   s += n\n",
        "print(f'A soma de todos os numeros é {s}')"
      ],
      "execution_count": 8,
      "outputs": [
        {
          "output_type": "stream",
          "text": [
            "Digite um número: 20\n",
            "Digite um número: 10\n",
            "Digite um número: 2\n",
            "Digite um número: 2\n",
            "A soma de todos os numeros é 34\n"
          ],
          "name": "stdout"
        }
      ]
    },
    {
      "cell_type": "markdown",
      "metadata": {
        "id": "n15n2pU_j2-w"
      },
      "source": [
        "O in pode ser usado para Strings"
      ]
    },
    {
      "cell_type": "code",
      "metadata": {
        "id": "eeDwmKkdj9Rd",
        "colab": {
          "base_uri": "https://localhost:8080/"
        },
        "outputId": "d1580a33-4ecc-4aeb-9729-c1822740aae8"
      },
      "source": [
        "for letra in 'Thiago Veiga Lima':\n",
        "   if letra == 'e':\n",
        "      print(f'Achei a letra {letra}')\n",
        "print('Fim')"
      ],
      "execution_count": 9,
      "outputs": [
        {
          "output_type": "stream",
          "text": [
            "Achei a letra e\n",
            "Fim\n"
          ],
          "name": "stdout"
        }
      ]
    },
    {
      "cell_type": "markdown",
      "metadata": {
        "id": "5OBkpYL2j93v"
      },
      "source": [
        "## EXERCÍCIOS"
      ]
    },
    {
      "cell_type": "markdown",
      "metadata": {
        "id": "5YRVAt-RkbLo"
      },
      "source": [
        "01 - Faça um programa que mostre na tela uma contagem regressiva para o estouro de fogos de artifício, indo de 10 até 0, com uma pausa de 1 segundo entre eles."
      ]
    },
    {
      "cell_type": "code",
      "metadata": {
        "id": "5fGkh8FPkHJF",
        "colab": {
          "base_uri": "https://localhost:8080/"
        },
        "outputId": "541c61b5-a90d-4217-e39d-1f6a79ea22da"
      },
      "source": [
        "from time import sleep\n",
        "\n",
        "for c in range(10, -1, -1): # começa no 5, tira 1 (-1), até o 1 (pois o útimo é ignorado)\n",
        "   print(c)\n",
        "   sleep(1)\n",
        "print(\"FELIZ ANO NOVO !\")"
      ],
      "execution_count": 23,
      "outputs": [
        {
          "output_type": "stream",
          "text": [
            "10\n",
            "9\n",
            "8\n",
            "7\n",
            "6\n",
            "5\n",
            "4\n",
            "3\n",
            "2\n",
            "1\n",
            "0\n",
            "FELIZ ANO NOVO !\n"
          ],
          "name": "stdout"
        }
      ]
    },
    {
      "cell_type": "markdown",
      "metadata": {
        "id": "RPyky00yke8P"
      },
      "source": [
        "\n",
        "\n",
        "```\n",
        "# Isto está formatado como código\n",
        "```\n",
        "\n",
        "02 - Dado uma string com uma frase informada pelo usuário (incluindo espaços em branco), conte quantas vezes aparece as vogais a,e,i,o,u"
      ]
    },
    {
      "cell_type": "code",
      "metadata": {
        "id": "t8Vw_nW3ki2s",
        "colab": {
          "base_uri": "https://localhost:8080/"
        },
        "outputId": "eae0f3c3-cf6b-407e-cdde-9f83761c88e6"
      },
      "source": [
        "frase = str(input(\"Digite uma frase: \").lower())\n",
        "vogais = 0\n",
        "for letra in frase:\n",
        "  if letra in 'aeiou':\n",
        "    vogais = vogais + 1\n",
        "print(vogais)"
      ],
      "execution_count": 42,
      "outputs": [
        {
          "output_type": "stream",
          "text": [
            "Digite uma frase: o rato roeu a roupa do rei de roma\n",
            "16\n"
          ],
          "name": "stdout"
        }
      ]
    },
    {
      "cell_type": "markdown",
      "metadata": {
        "id": "3PKv_p1EkjJ-"
      },
      "source": [
        "**03** - Desenvolva um código que pergunte um número n para o usuário e exiba todos seus divisores"
      ]
    },
    {
      "cell_type": "code",
      "metadata": {
        "id": "U9_SKeqfknWF",
        "colab": {
          "base_uri": "https://localhost:8080/"
        },
        "outputId": "6a4ef5d7-c9cb-40a9-c577-1a612b74ac6a"
      },
      "source": [
        "n = int(input(\"Insira um numero: \"))\n",
        "\n",
        "for i in range(1, n+1):\n",
        "  if n % i == 0:\n",
        "    print(i)\n",
        " \n"
      ],
      "execution_count": 46,
      "outputs": [
        {
          "output_type": "stream",
          "text": [
            "Insira um numero: 20\n",
            "1\n",
            "2\n",
            "4\n",
            "5\n",
            "10\n",
            "20\n"
          ],
          "name": "stdout"
        }
      ]
    },
    {
      "cell_type": "markdown",
      "metadata": {
        "id": "GgInr5G5koDC"
      },
      "source": [
        "04 - Escreva um programa onde o usuário digita uma frase e essa frase retorna sem nenhuma vogal."
      ]
    },
    {
      "cell_type": "code",
      "metadata": {
        "id": "6es38m-VkqeW",
        "colab": {
          "base_uri": "https://localhost:8080/"
        },
        "outputId": "d7c21d3d-5e40-4b76-b09f-581b37c4346a"
      },
      "source": [
        "frase = str(input(\"Digite uma frase: \").lower())\n",
        "sem_vogais = ''\n",
        "for letra in frase:\n",
        "  if letra not in 'aeiou ':\n",
        "    sem_vogais += letra\n",
        "print(sem_vogais)"
      ],
      "execution_count": 47,
      "outputs": [
        {
          "output_type": "stream",
          "text": [
            "Digite uma frase: o rato roeu a roupa do rei de roma\n",
            "rtrrpdrdrm\n"
          ],
          "name": "stdout"
        }
      ]
    }
  ]
}