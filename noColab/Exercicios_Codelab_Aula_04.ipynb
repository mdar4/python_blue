{
  "nbformat": 4,
  "nbformat_minor": 0,
  "metadata": {
    "colab": {
      "name": "Exercicios_Codelab_Aula_04.ipynb",
      "provenance": [],
      "include_colab_link": true
    },
    "kernelspec": {
      "name": "python3",
      "display_name": "Python 3"
    },
    "language_info": {
      "name": "python"
    }
  },
  "cells": [
    {
      "cell_type": "markdown",
      "metadata": {
        "id": "view-in-github",
        "colab_type": "text"
      },
      "source": [
        "<a href=\"https://colab.research.google.com/github/mdar4/python_blue/blob/main/Exercicios_Codelab_Aula_04.ipynb\" target=\"_parent\"><img src=\"https://colab.research.google.com/assets/colab-badge.svg\" alt=\"Open In Colab\"/></a>"
      ]
    },
    {
      "cell_type": "markdown",
      "metadata": {
        "id": "SW-cnnj3AAlE"
      },
      "source": [
        "## Exercício 01\n",
        "\n",
        "Faça um programa que pergunte ao usuário um número e valide se o numero é par ou impar:\n",
        "\n",
        "* Crie uma variável para receber o valor, com conversão para int\n",
        "* Para um número ser par, a divisão dele por 2 tem que dar resto 0"
      ]
    },
    {
      "cell_type": "code",
      "metadata": {
        "id": "ZeuCDPZQFT9T"
      },
      "source": [
        "numero = int(input('Digite um número: '))\n",
        "if numero % 2 == 0 :\n",
        "  print('Esse número é par')\n",
        "else:\n",
        "  print('Esse número é impar')"
      ],
      "execution_count": null,
      "outputs": []
    },
    {
      "cell_type": "markdown",
      "metadata": {
        "id": "jXVUBuN3DcU-"
      },
      "source": [
        "## Exercício 02\n",
        "\n",
        "> Parte 1\n",
        "\n",
        "Faça um script que peça um valor e mostre na tela se o valor é positivo ou negativo.\n",
        "\n",
        "> Parte 2\n",
        "\n",
        "Agora implemente a funcionalidade de não aceitar o número 0, no input. (esse vai além do explicado até agora)"
      ]
    },
    {
      "cell_type": "code",
      "metadata": {
        "id": "bsM4V6SeHwJr"
      },
      "source": [
        "numero = float(input('Digite um numero: '))\n",
        "\n",
        "if numero == 0:\n",
        "  print('Número inválido')\n",
        "elif numero < 0:\n",
        "  print('Número negativo')\n",
        "else:\n",
        "  print('Número positivo')"
      ],
      "execution_count": null,
      "outputs": []
    },
    {
      "cell_type": "markdown",
      "metadata": {
        "id": "90mUizLXOKd3"
      },
      "source": [
        "## Exercício 03\n",
        "\n",
        "Faça um programa que peça dois números, imprima o maior deles ou imprima \"Numeros iguais\" se os números forem iguais."
      ]
    },
    {
      "cell_type": "code",
      "metadata": {
        "id": "7yXB2kfUVYuD"
      },
      "source": [
        "n1 = float(input('Insira um número: '))\n",
        "n2 = float(input('Insira outro número: '))\n",
        "\n",
        "if n1 == n2:\n",
        "  print('Números iguais!')\n",
        "elif n1 > n2:\n",
        "  print(n1)\n",
        "else:\n",
        "  print(n2)"
      ],
      "execution_count": null,
      "outputs": []
    },
    {
      "cell_type": "markdown",
      "metadata": {
        "id": "9BATv7tsOWOI"
      },
      "source": [
        "## Exercício 04\n",
        "\n",
        "Crie um programa que verifique se uma letra digitada é \"F\" ou \"M\". Conforme a letra, escrever: F - Feminino, M - Masculino, caso escreva outra letra: Sexo Biológico Inválido."
      ]
    },
    {
      "cell_type": "code",
      "metadata": {
        "id": "pRm8kyI7Wnp4"
      },
      "source": [
        "#feminino = \"F\" \n",
        "#masculino = \"M\" \n",
        "#sexo = feminino or masculino\n",
        "print('''\n",
        "Qual o seu sexo Biológico ?\n",
        "\n",
        "[F] - Feminino\n",
        "[M] - Masculino\n",
        "''')\n",
        "resposta = input('Selecione a opção :').strip().upper()[0] # strip serve para tirar os espaços das laterais da String e \n",
        "                                                            # upper deixa a formatação em maiúsculo\n",
        "if resposta == 'F':\n",
        "  print('Sexo Feminino')\n",
        "elif resposta =='M':\n",
        "  print('Sexo Masculino')\n",
        "else:\n",
        "    print('Sexo biológico indefinido')"
      ],
      "execution_count": null,
      "outputs": []
    },
    {
      "cell_type": "markdown",
      "metadata": {
        "id": "WX2j2ITtY3G5"
      },
      "source": [
        "### Exercício 05\n",
        "\n",
        "Crie um programa em Python que peça a nota do aluno, que deve ser um float entre 0.00 e 10.0\n",
        "\n",
        "* Se a nota for menor que 6.0, deve exibir a nota F.\n",
        "\n",
        "* Se a nota for de 6.0 até 7.0, deve exibir a nota D.\n",
        "\n",
        "* Se a nota for entre 7.0 e 8.0, deve exibir a nota C.\n",
        "\n",
        "* Se a nota for entre 8.0 e 9.0, deve exibir a nota B.\n",
        "\n",
        "* Por fim, se for entre 9.0 e 10.0, deve exibir um belo de um A."
      ]
    },
    {
      "cell_type": "code",
      "metadata": {
        "id": "4CjqLlFWY5Z-",
        "colab": {
          "base_uri": "https://localhost:8080/"
        },
        "outputId": "1a104260-e17d-423b-a39a-4b3aa1627d0c"
      },
      "source": [
        "nota = float(input(\"Insira sua nota: \"))\n",
        "\n",
        "if nota < 6.0:\n",
        "  print(\"Nota F\")\n",
        "elif nota >= 6.0 and nota <7.0:\n",
        "  print(\"Nota D\")\n",
        "elif nota >= 7.0 and nota <8.0:\n",
        "  print(\"Nota C\")\n",
        "elif nota >= 8.0 and nota <9.0:\n",
        "  print(\"Nota B\")\n",
        "elif nota >= 9.0 and nota <=10.0:\n",
        "  print(\"Nota A\")\n",
        "\n",
        "\n"
      ],
      "execution_count": 42,
      "outputs": [
        {
          "output_type": "stream",
          "text": [
            "Insira sua nota: -1\n",
            "Nota F\n"
          ],
          "name": "stdout"
        }
      ]
    },
    {
      "cell_type": "markdown",
      "metadata": {
        "id": "xep4W_T-s-Ra"
      },
      "source": [
        "# *Mini Projetos*"
      ]
    },
    {
      "cell_type": "markdown",
      "metadata": {
        "id": "4YbMlSEZG7UM"
      },
      "source": [
        "## **PROJETO 01**\n",
        "\n",
        "*   Escreva um programa que receba uma string digitada pelo usuário;\n",
        "*   Caso a string seja \"medieval\", exiba no console \"espada\";\n",
        "*   Caso contrário, se a string for \"futurista\", exiba no console \"sabre de luz\";\n",
        "*   Caso contrário, exiba no console \"Tente novamente\""
      ]
    },
    {
      "cell_type": "code",
      "metadata": {
        "id": "tn9QH5pVG8Rq",
        "colab": {
          "base_uri": "https://localhost:8080/"
        },
        "outputId": "91827023-2fbf-4b9f-983b-630f9256eca6"
      },
      "source": [
        "# Resposta:\n",
        "print('''\n",
        "-Medieval    -Futurista\n",
        "''')\n",
        "resposta = input('Escolha o seu personagem: ').strip().lower()\n",
        "\n",
        "if resposta == 'medieval':\n",
        "  print(\"Arma: espada\")\n",
        "elif resposta == \"futurista\":\n",
        "  print(\"Arma: sabre de luz\")\n",
        "else :\n",
        "  print('Tente novamente !')"
      ],
      "execution_count": 57,
      "outputs": [
        {
          "output_type": "stream",
          "text": [
            "\n",
            "-Medieval    -Futurista\n",
            "\n",
            "Escolha o seu personagem: futurista\n",
            "Arma: sabre de luz\n"
          ],
          "name": "stdout"
        }
      ]
    },
    {
      "cell_type": "markdown",
      "metadata": {
        "id": "zUGk1OiNHDik"
      },
      "source": [
        "## **PROJETO 02**\n",
        "\n",
        "* Escreva um programa que receba um ataque de espada ou sabre digitada pelo usuário;\n",
        "\n",
        "* Caso o ataque seja \"espada\", exiba no console \"VOCÊ AINDA NÃO MATOU O CHEFÃO\";\n",
        "\n",
        "* Caso contrário, se o ataque for \"sabre\", exiba no console \"VOCÊ DERROTOU O CHEFÃO COM O SABRE DE LUZ\";\n",
        "\n",
        "* Caso contrário, exiba no console \"ATAQUE NOVAMENTE\""
      ]
    },
    {
      "cell_type": "code",
      "metadata": {
        "id": "eNZokIIOHHkp",
        "colab": {
          "base_uri": "https://localhost:8080/"
        },
        "outputId": "e31ae9ec-46f5-43b5-80e7-6018af71ff1f"
      },
      "source": [
        "# Resposta:\n",
        "print('''\n",
        "Para selecionar sua arma, digite seu nome\n",
        "\n",
        "-Espada     -Sabre\n",
        "''')\n",
        "\n",
        "resposta = input('Arma: ').strip().lower()\n",
        "\n",
        "if resposta == \"espada\":\n",
        "  print(\"VOCÊ AINDA NÃO MATOU O CHEFÃO\")\n",
        "elif resposta == \"sabre\":\n",
        "  print(\"VOCÊ DERROTOU O CHEFÃO COM O SABRE DE LUZ\")\n",
        "else:\n",
        "  print(\"ATAQUE NOVAMENTE\")"
      ],
      "execution_count": 63,
      "outputs": [
        {
          "output_type": "stream",
          "text": [
            "\n",
            "Para selecionar sua arma, digite seu nome\n",
            "\n",
            "-Espada     -Sabre\n",
            "\n",
            "Arma: espada\n",
            "VOCÊ AINDA NÃO MATOU O CHEFÃO\n"
          ],
          "name": "stdout"
        }
      ]
    },
    {
      "cell_type": "markdown",
      "metadata": {
        "id": "NRhLAMa6ZfqU"
      },
      "source": [
        "## **DESAFIO 01**\n",
        "\n",
        "**Reajuste salarial**\n",
        "\n",
        "As empresas @.com resolveram dar um aumento de salário aos seus colaboradores e lhe contrataram para desenvolver o programa que calculará os reajustes.\n",
        "\n",
        "Faça um programa que recebe o salário de um colaborador e o reajuste segundo o seguinte critério, baseado no salário atual:\n",
        "* salários até R$ 280,00 (incluindo) : aumento de 20%\n",
        "\n",
        "* salários entre R\\$ 280,00 e R$ 700,00 : aumento de 15%\n",
        "\n",
        "* salários entre R\\$ 700,00 e R$ 1500,00 : aumento de 10%\n",
        "\n",
        "* salários de R$ 1500,00 em diante : aumento de 5% \n",
        "\n",
        "Após o aumento ser realizado, informe na tela:\n",
        "* o salário antes do reajuste;\n",
        "\n",
        "* o percentual de aumento aplicado;\n",
        "\n",
        "* o valor do aumento;\n",
        "\n",
        "* o novo salário, após o aumento.\""
      ]
    },
    {
      "cell_type": "code",
      "metadata": {
        "id": "VpC5oZINZXzt",
        "colab": {
          "base_uri": "https://localhost:8080/"
        },
        "outputId": "3e25f198-62f1-4740-bdab-8cf1171e2350"
      },
      "source": [
        "salario = float(input(\"Insira um valor: \"))\n",
        "\n",
        "a1 = 0.2\n",
        "a2 = 0.15\n",
        "a3 = 0.1\n",
        "a4 = 0.05\n",
        "\n",
        "if salario <= 280:\n",
        "  print(f'Salário pré-reajuste: {salario} \\nPercentual de Aumento: {int(a1 *100)}%\\nValor do aumento: \\nSalário: {(salario * a1) + salario }')\n",
        "elif salario >= 280 and salario <= 700:\n",
        "  print(f'Salário pré-reajuste: {salario} \\nPercentual de Aumento: {int(a2* 100)}%\\nValor do aumento: \\nSalário: {(salario * a2) + salario }')\n",
        "elif salario >= 700 and salario <= 1500:\n",
        "  print(f'Salário pré-reajuste: {salario} \\nPercentual de Aumento: {int(a3* 100)}%\\nValor do aumento: \\nSalário: {(salario * a3) + salario }')\n",
        "elif salario >= 1500:\n",
        "  print(f'Salário pré-reajuste: {salario} \\nPercentual de Aumento: {int(a4* 100)}%\\nValor do aumento: \\nSalário: {(salario * a4) + salario }')\n",
        "else:\n",
        "  print('Valor inválido')"
      ],
      "execution_count": 99,
      "outputs": [
        {
          "output_type": "stream",
          "text": [
            "Insira um valor: 2000\n",
            "Salário pré-reajuste: 2000.0 \n",
            "Percentual de Aumento: 5%\n",
            "Valor do aumento: \n",
            "Salário: 2100.0\n"
          ],
          "name": "stdout"
        }
      ]
    },
    {
      "cell_type": "markdown",
      "metadata": {
        "id": "HvThpbU4aBGy"
      },
      "source": [
        "## **DESAFIO 02**\n",
        "\n",
        "**Jogo da adivinhação**\n",
        "\n",
        "Escreva um programa que faça o computador “pensar” em um número inteiro entre 0 e 10 e peça para o usuário tentar descobrir qual foi o número escolhido pelo computador. O programa deverá escrever na tela se o usuário venceu ou perdeu."
      ]
    },
    {
      "cell_type": "code",
      "metadata": {
        "id": "TVeHZbyQZIzO",
        "colab": {
          "base_uri": "https://localhost:8080/"
        },
        "outputId": "0410c718-2d01-4d60-c8aa-47f1e04a1ebe"
      },
      "source": [
        "import random\n",
        "\n",
        "numSorteio = random.randint(0,10)\n",
        "escolhido = int(input(\"Escolha um número de 0 a 10: \"))\n",
        "\n",
        "if numSorteio == escolhido:\n",
        "  print(\"Parabéns ! Você acertou.\")\n",
        "else:\n",
        "  print(\"Não foi dessa vez... Tente novamente !\")"
      ],
      "execution_count": 107,
      "outputs": [
        {
          "output_type": "stream",
          "text": [
            "Escolha um número de 0 a 10: 9\n",
            "Parabéns ! Você acertou.\n"
          ],
          "name": "stdout"
        }
      ]
    },
    {
      "cell_type": "markdown",
      "metadata": {
        "id": "mjLFAUooaOH1"
      },
      "source": [
        "## **Desafio 03**\n",
        "\n",
        "**Caixa eletrônico**\n",
        "\n",
        "Faça um Programa para um caixa eletrônico. O programa deverá perguntar ao usuário a valor do saque e depois informar quantas notas de cada valor serão fornecidas. As notas disponíveis serão as de 1, 5, 10, 50 e 100 reais. O valor mínimo é de 10 reais e o máximo de 600 reais. O programa não deve se preocupar com a quantidade de notas existentes na máquina.\n",
        "\n",
        "* Exemplo 1: Para sacar a quantia de 256 reais, o programa fornece duas notas de 100, uma nota de 50, uma nota de 5 e uma nota de 1;\n",
        "\n",
        "* Exemplo 2: Para sacar a quantia de 399 reais, o programa fornece três notas de 100, uma nota de 50, quatro notas de 10, uma nota de 5 e quatro notas de 1.\n",
        "\n"
      ]
    },
    {
      "cell_type": "code",
      "metadata": {
        "id": "sH65bTx-ZMLh",
        "colab": {
          "base_uri": "https://localhost:8080/"
        },
        "outputId": "c44ec4fd-ca4f-4952-9cf7-c3719bbe0b4f"
      },
      "source": [
        "saque = int(input(f\"Qual o valor do saque ?:  \"))\n",
        "\n",
        "if saque >= 10 and saque <= 600:\n",
        "  n100 = int(saque//100)\n",
        "  saque = saque % 100\n",
        "  \n",
        "  n50 = int(saque // 50)\n",
        "  saque = saque % 50\n",
        "\n",
        "  n10 = int(saque//10)\n",
        "  saque = saque % 10\n",
        "\n",
        "  n5 = int(saque//5)\n",
        "  saque = saque % 5\n",
        "\n",
        "  n1 = saque\n",
        "  print(f\"Notas de R$ 1,00: {int(n1)}\\nNotas de R$ 5,00: {n5}\\nNotas de R$ 10,00: {n10}\\nNotas de R$ 50,00: {n50}\\nNotas de R$ 100,00: {n100}\\n\")\n",
        "\n",
        "else:\n",
        "  print(\"Saque indisponível, tente novamente mais tarde.\")\n",
        "\n",
        "\n",
        "\n",
        "\n"
      ],
      "execution_count": 108,
      "outputs": [
        {
          "output_type": "stream",
          "text": [
            "Qual o valor do saque ?:  100\n",
            "Notas de R$ 1,00: 0\n",
            "Notas de R$ 5,00: 0\n",
            "Notas de R$ 10,00: 0\n",
            "Notas de R$ 50,00: 0\n",
            "Notas de R$ 100,00: 1\n",
            "\n"
          ],
          "name": "stdout"
        }
      ]
    }
  ]
}